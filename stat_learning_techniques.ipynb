{
 "cells": [
  {
   "cell_type": "code",
   "execution_count": 69,
   "metadata": {},
   "outputs": [],
   "source": [
    "import openpyxl\n",
    "import pandas as pd\n",
    "import numpy as np\n",
    "import re # patteern matching"
   ]
  },
  {
   "cell_type": "markdown",
   "metadata": {},
   "source": [
    "### 1. Gradient Boosting (XGBoost)\n",
    "reference source: https://machinelearningmastery.com/xgboost-for-time-series-forecasting/ \n",
    "\n",
    "We need to first change the data into a more usable and compact form. This approach will be purely data driven, and will only use enrollment data from past Fall and Spring semesters to make next Fall semester's prediction.\n",
    "\n",
    "XG Boost will be run on each core class independently rather than doing a multivariate approach for simplicity and perhaps better results?\n",
    "\n",
    "Here we are first filtering the data for only classes we are interested in, and making a dictionary where the key is the course name and the value is another dictionary where the key is semester (Season + Year) and the value is the count of students in that class in that semester"
   ]
  },
  {
   "cell_type": "code",
   "execution_count": 60,
   "metadata": {},
   "outputs": [
    {
     "name": "stdout",
     "output_type": "stream",
     "text": [
      "Counts for CSCI200_Pass_C_Sem:\n",
      "{'Fall 2023': 302, 'Spring 2023': 241, 'Fall 2022': 15, 'Summer 2023': 41, 'Fall 2020': 289, 'Fall 2019': 255, 'Spring 2021': 249, 'Fall 2018': 236, 'Spring 2019': 213, 'Spring 2020': 183, 'Fall 2021': 173, 'Spring 2022': 168, 'Spring 2018': 136, 'Fall 2017': 112, 'Summer 2020': 83, 'Fall 2016': 56, 'Spring 2017': 55, 'Spring 2016': 45, 'Summer 2021': 43, 'Summer 2022': 39, 'Spring 2015': 30, 'Fall 2015': 26, 'Fall 2014': 18, 'Spring 2014': 14, 'Summer 2019': 13, 'Summer One 2018': 12, 'Fall 2013': 8, 'Summer Two 2016': 7, 'Spring 2012': 7, 'Spring 2013': 6, 'Spring 2011': 5, 'Fall 2012': 5, 'Fall 2011': 4, 'Fall 2009': 4, 'Summer Two 2015': 4, 'Spring 2010': 4, 'Summer One 2017': 4, 'Summer Two 2012': 2, 'Fall 2007': 2, 'Summer Two 2014': 1, 'Summer 2009': 1, 'Fall 2008': 1}\n",
      "\n",
      "Counts for CSCI220_Pass_Sem:\n",
      "{'Fall 2023': 217, 'Spring 2023': 1, 'Fall 2022': 11, 'Summer 2023': 16, 'Fall 2021': 254, 'Fall 2019': 207, 'Fall 2020': 192, 'Spring 2019': 169, 'Spring 2021': 165, 'Spring 2022': 131, 'Fall 2018': 128, 'Spring 2020': 119, 'Spring 2018': 89, 'Fall 2017': 52, 'Summer 2021': 51, 'Summer 2020': 47, 'Spring 2017': 45, 'Fall 2016': 31, 'Summer 2022': 23, 'Spring 2016': 21, 'Summer 2019': 14, 'Fall 2015': 12, 'Summer Two 2018': 12, 'Spring 2015': 9, 'Fall 2014': 7, 'Fall 2012': 5, 'Summer Two 2017': 4, 'Fall 2011': 4, 'Spring 2013': 3, 'Fall 2013': 2, 'Spring 2014': 2, 'Spring 2012': 1}\n",
      "\n",
      "Counts for CSCI306_Pass_Sem:\n",
      "{'Spring 2022': 194, 'Fall 2022': 161, 'Fall 2020': 157, 'Fall 2021': 150, 'Fall 2023': 150, 'Spring 2021': 143, 'Spring 2023': 142, 'Spring 2020': 107, 'Fall 2019': 106, 'Spring 2019': 93, 'Fall 2018': 48, 'Spring 2018': 44, 'Fall 2017': 39, 'Fall 2016': 21, 'Spring 2017': 20, 'Fall 2015': 9, 'Spring 2016': 7, 'Fall 2013': 5, 'Fall 2014': 3, 'Spring 2015': 3, 'Spring 2013': 3, 'Spring 2012': 3, 'Spring 2008': 1}\n",
      "\n",
      "Counts for CSCI341_Pass_Sem:\n",
      "{'Spring 2022': 179, 'Fall 2021': 157, 'Spring 2021': 143, 'Spring 2023': 137, 'Fall 2020': 128, 'Spring 2020': 127, 'Fall 2023': 125, 'Fall 2022': 124, 'Fall 2019': 106, 'Spring 2019': 97, 'Fall 2018': 74, 'Spring 2018': 43, 'Fall 2017': 32, 'Spring 2017': 31, 'Spring 2016': 11, 'Summer 2023': 10, 'Fall 2016': 9, 'Fall 2015': 8, 'Spring 2015': 4, 'Fall 2014': 3, 'Fall 2012': 2, 'Spring 2012': 2, 'Fall 2011': 1, 'Spring 2013': 1, 'Spring 2014': 1, 'Fall 2013': 1}\n",
      "\n",
      "Counts for CSCI358_Pass_Sem:\n",
      "{'Spring 2023': 180, 'Fall 2023': 174, 'Fall 2022': 165, 'Spring 2022': 149, 'Spring 2021': 145, 'Fall 2021': 138, 'Fall 2020': 135, 'Spring 2019': 114, 'Fall 2019': 106, 'Spring 2020': 97, 'Spring 2018': 48, 'Fall 2018': 45, 'Fall 2017': 21, 'Fall 2016': 20, 'Spring 2016': 16, 'Spring 2017': 16, 'Spring 2015': 6, 'Fall 2015': 5, 'Fall 2012': 4, 'Spring 2013': 2, 'Fall 2014': 2, 'Spring 2012': 2, 'Fall 2011': 1}\n",
      "\n",
      "Counts for CSCI400_Pass_Sem:\n",
      "{'Fall 2023': 174, 'Fall 2022': 138, 'Fall 2021': 123, 'Spring 2023': 110, 'Spring 2022': 105, 'Fall 2020': 97, 'Spring 2021': 74, 'Spring 2019': 36, 'Spring 2020': 34, 'Fall 2019': 29, 'Fall 2018': 16, 'Spring 2017': 11, 'Spring 2018': 9, 'Fall 2017': 9, 'Fall 2016': 8, 'Fall 2014': 3, 'Spring 2016': 2, 'Spring 2014': 2, 'Spring 2013': 1, 'Spring 2008': 1, 'Fall 2015': 1, 'Fall 2012': 1, 'Spring 2015': 1, 'Fall 2013': 1}\n",
      "\n",
      "Counts for CSCI406_Pass_Sem:\n",
      "{'Fall 2022': 158, 'Spring 2023': 158, 'Spring 2022': 149, 'Fall 2023': 147, 'Spring 2021': 133, 'Fall 2020': 122, 'Fall 2021': 114, 'Fall 2019': 94, 'Spring 2020': 70, 'Spring 2019': 57, 'Fall 2018': 55, 'Spring 2018': 26, 'Fall 2017': 21, 'Spring 2017': 16, 'Fall 2016': 8, 'Spring 2016': 7, 'Spring 2015': 4, 'Fall 2015': 3, 'Spring 2012': 2, 'Spring 2013': 2, 'Fall 2013': 2, 'Fall 2014': 1}\n",
      "\n",
      "Counts for CSCI442_Pass_Sem:\n",
      "{'Spring 2023': 188, 'Spring 2022': 156, 'Spring 2021': 152, 'Fall 2022': 145, 'Fall 2023': 117, 'Fall 2021': 91, 'Fall 2020': 69, 'Spring 2020': 59, 'Fall 2019': 49, 'Spring 2019': 44, 'Fall 2018': 25, 'Spring 2018': 23, 'Fall 2017': 19, 'Spring 2016': 5, 'Fall 2016': 4, 'Spring 2017': 4, 'Spring 2014': 3, 'Fall 2015': 3, 'Spring 2015': 1, 'Spring 2012': 1, 'Fall 2011': 1, 'Spring 2013': 1, 'Fall 2012': 1}\n",
      "\n"
     ]
    }
   ],
   "source": [
    "# will augment 200 with 261 and 220 with 262 as they are comparable\n",
    "cs_classes = [\"CSCI261_Pass_C_Sem\", \"CSCI262_Pass_Sem\", \"CSCI200_Pass_C_Sem\", \"CSCI220_Pass_Sem\", \"CSCI306_Pass_Sem\", \"CSCI341_Pass_Sem\", \"CSCI358_Pass_Sem\", \"CSCI400_Pass_Sem\", \"CSCI406_Pass_Sem\", \"CSCI442_Pass_Sem\"]\n",
    "raw_data = pd.read_excel('CS Course Enrollment Data 030824.xlsx')\n",
    "new_df = raw_data.loc[:, cs_classes] # filter for only classes we want\n",
    "new_df.head()\n",
    "\n",
    "# Create dictionaries of counts of students in each class for each semester listed\n",
    "column_counts = {}\n",
    "# Iterate over each column in the DataFrame\n",
    "for column in new_df.columns:\n",
    "    # Get counts of unique values in the column\n",
    "    value_counts = new_df[column].value_counts()\n",
    "    \n",
    "    # Convert value_counts Series to dictionary\n",
    "    counts_dict = value_counts.to_dict()\n",
    "    \n",
    "    # Store the dictionary of counts for the column\n",
    "    column_counts[column] = counts_dict\n",
    "\n",
    "#augment 200 with 261 and 220 with 262 and remove 261 and 262 from dictionary\n",
    "column_counts.get(\"CSCI200_Pass_C_Sem\").update(column_counts.get(\"CSCI261_Pass_C_Sem\"))\n",
    "column_counts.get(\"CSCI220_Pass_Sem\").update(column_counts.get(\"CSCI262_Pass_Sem\"))\n",
    "del column_counts[\"CSCI261_Pass_C_Sem\"]\n",
    "del column_counts[\"CSCI262_Pass_Sem\"]\n",
    "\n",
    "# Print the dictionaries for each column\n",
    "# 2008 appears to be the earliest, and it goes up to Fall 2023\n",
    "for course, counts_dict in column_counts.items():\n",
    "    print(f\"Counts for {course}:\")\n",
    "    print(counts_dict)\n",
    "    print()\n"
   ]
  },
  {
   "cell_type": "markdown",
   "metadata": {},
   "source": [
    "Next we want to sort the dictionaries in order to easily create our time-series data. We also remove the summer semesters from the data as enrollment numbers for summer are very different and likely do not vastly alter enrollment for the following Fall semester."
   ]
  },
  {
   "cell_type": "code",
   "execution_count": 66,
   "metadata": {},
   "outputs": [
    {
     "name": "stdout",
     "output_type": "stream",
     "text": [
      "Counts for CSCI200_Pass_C_Sem:\n",
      "{'Fall 2007': 2, 'Fall 2008': 1, 'Fall 2009': 4, 'Spring 2010': 4, 'Spring 2011': 5, 'Fall 2011': 4, 'Spring 2012': 7, 'Fall 2012': 5, 'Spring 2013': 6, 'Fall 2013': 8, 'Spring 2014': 14, 'Fall 2014': 18, 'Spring 2015': 30, 'Fall 2015': 26, 'Spring 2016': 45, 'Fall 2016': 56, 'Spring 2017': 55, 'Fall 2017': 112, 'Spring 2018': 136, 'Fall 2018': 236, 'Spring 2019': 213, 'Fall 2019': 255, 'Spring 2020': 183, 'Fall 2020': 289, 'Spring 2021': 249, 'Fall 2021': 173, 'Spring 2022': 168, 'Fall 2022': 15, 'Spring 2023': 241, 'Fall 2023': 302}\n",
      "\n",
      "Counts for CSCI220_Pass_Sem:\n",
      "{'Fall 2011': 4, 'Spring 2012': 1, 'Fall 2012': 5, 'Spring 2013': 3, 'Fall 2013': 2, 'Spring 2014': 2, 'Fall 2014': 7, 'Spring 2015': 9, 'Fall 2015': 12, 'Spring 2016': 21, 'Fall 2016': 31, 'Spring 2017': 45, 'Fall 2017': 52, 'Spring 2018': 89, 'Fall 2018': 128, 'Spring 2019': 169, 'Fall 2019': 207, 'Spring 2020': 119, 'Fall 2020': 192, 'Spring 2021': 165, 'Fall 2021': 254, 'Spring 2022': 131, 'Fall 2022': 11, 'Spring 2023': 1, 'Fall 2023': 217}\n",
      "\n",
      "Counts for CSCI306_Pass_Sem:\n",
      "{'Spring 2008': 1, 'Spring 2012': 3, 'Spring 2013': 3, 'Fall 2013': 5, 'Fall 2014': 3, 'Spring 2015': 3, 'Fall 2015': 9, 'Spring 2016': 7, 'Fall 2016': 21, 'Spring 2017': 20, 'Fall 2017': 39, 'Spring 2018': 44, 'Fall 2018': 48, 'Spring 2019': 93, 'Fall 2019': 106, 'Spring 2020': 107, 'Fall 2020': 157, 'Spring 2021': 143, 'Fall 2021': 150, 'Spring 2022': 194, 'Fall 2022': 161, 'Spring 2023': 142, 'Fall 2023': 150}\n",
      "\n",
      "Counts for CSCI341_Pass_Sem:\n",
      "{'Fall 2011': 1, 'Spring 2012': 2, 'Fall 2012': 2, 'Spring 2013': 1, 'Fall 2013': 1, 'Spring 2014': 1, 'Fall 2014': 3, 'Spring 2015': 4, 'Fall 2015': 8, 'Spring 2016': 11, 'Fall 2016': 9, 'Spring 2017': 31, 'Fall 2017': 32, 'Spring 2018': 43, 'Fall 2018': 74, 'Spring 2019': 97, 'Fall 2019': 106, 'Spring 2020': 127, 'Fall 2020': 128, 'Spring 2021': 143, 'Fall 2021': 157, 'Spring 2022': 179, 'Fall 2022': 124, 'Spring 2023': 137, 'Fall 2023': 125}\n",
      "\n",
      "Counts for CSCI358_Pass_Sem:\n",
      "{'Fall 2011': 1, 'Spring 2012': 2, 'Fall 2012': 4, 'Spring 2013': 2, 'Fall 2014': 2, 'Spring 2015': 6, 'Fall 2015': 5, 'Spring 2016': 16, 'Fall 2016': 20, 'Spring 2017': 16, 'Fall 2017': 21, 'Spring 2018': 48, 'Fall 2018': 45, 'Spring 2019': 114, 'Fall 2019': 106, 'Spring 2020': 97, 'Fall 2020': 135, 'Spring 2021': 145, 'Fall 2021': 138, 'Spring 2022': 149, 'Fall 2022': 165, 'Spring 2023': 180, 'Fall 2023': 174}\n",
      "\n",
      "Counts for CSCI400_Pass_Sem:\n",
      "{'Spring 2008': 1, 'Fall 2012': 1, 'Spring 2013': 1, 'Fall 2013': 1, 'Spring 2014': 2, 'Fall 2014': 3, 'Spring 2015': 1, 'Fall 2015': 1, 'Spring 2016': 2, 'Fall 2016': 8, 'Spring 2017': 11, 'Fall 2017': 9, 'Spring 2018': 9, 'Fall 2018': 16, 'Spring 2019': 36, 'Fall 2019': 29, 'Spring 2020': 34, 'Fall 2020': 97, 'Spring 2021': 74, 'Fall 2021': 123, 'Spring 2022': 105, 'Fall 2022': 138, 'Spring 2023': 110, 'Fall 2023': 174}\n",
      "\n",
      "Counts for CSCI406_Pass_Sem:\n",
      "{'Spring 2012': 2, 'Spring 2013': 2, 'Fall 2013': 2, 'Fall 2014': 1, 'Spring 2015': 4, 'Fall 2015': 3, 'Spring 2016': 7, 'Fall 2016': 8, 'Spring 2017': 16, 'Fall 2017': 21, 'Spring 2018': 26, 'Fall 2018': 55, 'Spring 2019': 57, 'Fall 2019': 94, 'Spring 2020': 70, 'Fall 2020': 122, 'Spring 2021': 133, 'Fall 2021': 114, 'Spring 2022': 149, 'Fall 2022': 158, 'Spring 2023': 158, 'Fall 2023': 147}\n",
      "\n",
      "Counts for CSCI442_Pass_Sem:\n",
      "{'Fall 2011': 1, 'Spring 2012': 1, 'Fall 2012': 1, 'Spring 2013': 1, 'Spring 2014': 3, 'Spring 2015': 1, 'Fall 2015': 3, 'Spring 2016': 5, 'Fall 2016': 4, 'Spring 2017': 4, 'Fall 2017': 19, 'Spring 2018': 23, 'Fall 2018': 25, 'Spring 2019': 44, 'Fall 2019': 49, 'Spring 2020': 59, 'Fall 2020': 69, 'Spring 2021': 152, 'Fall 2021': 91, 'Spring 2022': 156, 'Fall 2022': 145, 'Spring 2023': 188, 'Fall 2023': 117}\n",
      "\n"
     ]
    }
   ],
   "source": [
    "# Define a custom sorting key function\n",
    "def custom_sort_key(s):\n",
    "    # Extract the year from the string\n",
    "    pattern = r'\\b\\d{4}\\b'\n",
    "    year = int(re.search(pattern, s).group())\n",
    "    # Assign a sort order based on the season (\"Spring\" comes before \"Fall\")\n",
    "    season_order = 0 if s.startswith(\"Spring\") else 1\n",
    "    # Combine the year and season order to create the sorting key\n",
    "    return (year, season_order)\n",
    "\n",
    "# sort dictionaries and remove summer semesters\n",
    "for course, counts_dict in column_counts.items():\n",
    "    print(f\"Counts for {course}:\")\n",
    "    counts_dict = dict(sorted(counts_dict.items(), key = lambda item: custom_sort_key(item[0])))\n",
    "    summer = r'^Summer'\n",
    "    counts_dict = {key: value for key, value in counts_dict.items() if not re.match(summer, key)}\n",
    "    column_counts[course] = counts_dict\n",
    "    print(counts_dict)\n",
    "    print()"
   ]
  },
  {
   "cell_type": "markdown",
   "metadata": {},
   "source": [
    "Finally, we want to create separate data arrays using these dictionaries that can be fed easily into the algorithm. We will use a function to turn the time series data into supervised data. We will just use CSCI200 as a test and if successful, we can try the others."
   ]
  },
  {
   "cell_type": "code",
   "execution_count": 73,
   "metadata": {},
   "outputs": [
    {
     "name": "stdout",
     "output_type": "stream",
     "text": [
      "[  2   1   4   4   5   4   7   5   6   8  14  18  30  26  45  56  55 112\n",
      " 136 236 213 255 183 289 249 173 168  15 241 302]\n",
      "30\n"
     ]
    }
   ],
   "source": [
    "print(column_counts.get(\"CSCI200_Pass_C_Sem))\n",
    "csci200 = list(column_counts.get(\"CSCI200_Pass_C_Sem\").values())\n",
    "csci200 = np.array(csci200)\n",
    "print(csci200)"
   ]
  },
  {
   "cell_type": "code",
   "execution_count": null,
   "metadata": {},
   "outputs": [],
   "source": []
  }
 ],
 "metadata": {
  "kernelspec": {
   "display_name": ".venv",
   "language": "python",
   "name": "python3"
  },
  "language_info": {
   "codemirror_mode": {
    "name": "ipython",
    "version": 3
   },
   "file_extension": ".py",
   "mimetype": "text/x-python",
   "name": "python",
   "nbconvert_exporter": "python",
   "pygments_lexer": "ipython3",
   "version": "3.10.12"
  },
  "orig_nbformat": 4
 },
 "nbformat": 4,
 "nbformat_minor": 2
}
