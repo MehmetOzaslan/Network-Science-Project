{
 "cells": [
  {
   "cell_type": "code",
   "execution_count": null,
   "metadata": {},
   "outputs": [],
   "source": [
    "%pip install numpy pandas openpyxl networkx"
   ]
  },
  {
   "cell_type": "markdown",
   "metadata": {},
   "source": [
    "Create an array of every CS class a student can take in a given semester"
   ]
  },
  {
   "cell_type": "code",
   "execution_count": 2,
   "metadata": {},
   "outputs": [
    {
     "name": "stdout",
     "output_type": "stream",
     "text": [
      "['CSCI101' 'CSCI128' 'CSCI200' 'CSCI210' 'CSCI220' 'CSCI261' 'CSCI262'\n",
      " 'CSCI274' 'CSCI306' 'CSCI341' 'CSCI358' 'CSCI370' 'CSCI400' 'CSCI406'\n",
      " 'CSCI442' 'MATH111' 'MATH112' 'MATH113' 'MATH122' 'MATH213' 'MATH214'\n",
      " 'MATH223' 'MATH224' 'MATH225' 'MATH235' 'MATH300' 'MATH307' 'MATH332'\n",
      " 'MATH342' 'PHGN100' 'PHGN200' 'CSCI404' 'CSCI410' 'CSCI422' 'CSCI423'\n",
      " 'CSCI425' 'CSCI432' 'CSCI436' 'CSCI437' 'CSCI440' 'CSCI441' 'CSCI443'\n",
      " 'CSCI444' 'CSCI445' 'CSCI446' 'CSCI448' 'CSCI455' 'CSCI470' 'CSCI471'\n",
      " 'CSCI473' 'CSCI474' 'CSCI475' 'CSCI477' 'CSCI478']\n"
     ]
    }
   ],
   "source": [
    "import pandas as pd\n",
    "import numpy as np\n",
    "\n",
    "# Load the Excel file\n",
    "df = pd.read_excel('./CSCurriculumRevertedData.xlsx')\n",
    "\n",
    "# Get all the \"Pass\" semester columns.\n",
    "semester_cols = [col for col in df.columns if 'Pass' in col]\n",
    "\n",
    "classes = np.array([])\n",
    "\n",
    "for col in semester_cols:\n",
    "    classes = np.append(classes, [str(col).split(\"_\")[0]])\n",
    "\n",
    "print(\"Classes: \")\n",
    "print(np.array_str(classes))"
   ]
  },
  {
   "cell_type": "markdown",
   "metadata": {},
   "source": [
    "Create directed graph representing the CS flowchart. For the purposes of reading this data into the stochastic matrix, we will want to include cumulative prereqs, so while 403 doesn't require 101 directly, we will still list it as a requirement."
   ]
  },
  {
   "cell_type": "code",
   "execution_count": 3,
   "metadata": {},
   "outputs": [],
   "source": [
    "import networkx as nx \n",
    "\n",
    "requirements = nx.DiGraph()\n",
    "\n",
    "requirements.add_nodes_from(classes)\n",
    "\n",
    "# For now, just add one edge representing that 101 is required for 200 and 220\n",
    "# Explicit Prerequisites\n",
    "requirements.add_edge('CSCI101', 'CSCI200')\n",
    "\n",
    "# Implicit Prerequisites (delete these to get the flowchart instead)\n",
    "requirements.add_edge('CSCI101', 'CSCI220')"
   ]
  },
  {
   "cell_type": "markdown",
   "metadata": {},
   "source": [
    "Create the stochastic matrix. \n",
    "\n",
    "Note that right now, the stochastic matrix only handles the requirements for a class and the cummulative prerequisite courses for a class. In the future, we will want to edit the stochastic matrix using data from previous semesters to determine what classes students are actually likely to take after completing some class."
   ]
  },
  {
   "cell_type": "code",
   "execution_count": 11,
   "metadata": {},
   "outputs": [
    {
     "name": "stdout",
     "output_type": "stream",
     "text": [
      "Stochastic Matrix: \n",
      "[[0.         0.01960784 0.         ... 0.01960784 0.01960784 0.01960784]\n",
      " [0.01886792 0.         0.01886792 ... 0.01886792 0.01886792 0.01886792]\n",
      " [0.01886792 0.01886792 0.         ... 0.01886792 0.01886792 0.01886792]\n",
      " ...\n",
      " [0.01886792 0.01886792 0.01886792 ... 0.         0.01886792 0.01886792]\n",
      " [0.01886792 0.01886792 0.01886792 ... 0.01886792 0.         0.01886792]\n",
      " [0.01886792 0.01886792 0.01886792 ... 0.01886792 0.01886792 0.        ]]\n"
     ]
    }
   ],
   "source": [
    "num_classes = classes.size\n",
    "\n",
    "# Fill the matrix with 1's\n",
    "stochastic = np.empty(shape=(num_classes, num_classes))\n",
    "stochastic.fill(1)\n",
    "\n",
    "# If you pass a class, you won't take that class next semester, so set the diagonal to 0\n",
    "np.fill_diagonal(stochastic, 0)\n",
    "\n",
    "# Look at the prereqs, if a class is a prereq for another class, that spot in the matrix should be a 0\n",
    "for required in classes:\n",
    "\n",
    "    # Get the outgoing edges in the associated requirements network\n",
    "    classes_requiring = requirements.adj[required]\n",
    "    \n",
    "    for requiring_class in classes_requiring:\n",
    "        stochastic[np.where(classes == required), np.where(classes == requiring_class)] = 0\n",
    "\n",
    "\n",
    "# Make the matrix stochastic\n",
    "stochastic = stochastic/stochastic.sum(axis=1)[:,None]\n",
    "\n",
    "print(\"Stochastic Matrix: \")\n",
    "print(stochastic)"
   ]
  },
  {
   "cell_type": "markdown",
   "metadata": {},
   "source": [
    "For the sake of demonstration, create a student who is only taking CS200. Estimate what their next semester will look like."
   ]
  },
  {
   "cell_type": "code",
   "execution_count": 15,
   "metadata": {},
   "outputs": [
    {
     "name": "stdout",
     "output_type": "stream",
     "text": [
      "Initial Student Array:\n",
      "[0. 0. 1. 0. 0. 0. 0. 0. 0. 0. 0. 0. 0. 0. 0. 0. 0. 0. 0. 0. 0. 0. 0. 0.\n",
      " 0. 0. 0. 0. 0. 0. 0. 0. 0. 0. 0. 0. 0. 0. 0. 0. 0. 0. 0. 0. 0. 0. 0. 0.\n",
      " 0. 0. 0. 0. 0. 0.]\n",
      "Predicted Schedule: \n",
      "[0.         0.01886792 0.         0.01886792 0.01886792 0.01886792\n",
      " 0.01886792 0.01886792 0.01886792 0.01886792 0.01886792 0.01886792\n",
      " 0.01886792 0.01886792 0.01886792 0.01886792 0.01886792 0.01886792\n",
      " 0.01886792 0.01886792 0.01886792 0.01886792 0.01886792 0.01886792\n",
      " 0.01886792 0.01886792 0.01886792 0.01886792 0.01886792 0.01886792\n",
      " 0.01886792 0.01886792 0.01886792 0.01886792 0.01886792 0.01886792\n",
      " 0.01886792 0.01886792 0.01886792 0.01886792 0.01886792 0.01886792\n",
      " 0.01886792 0.01886792 0.01886792 0.01886792 0.01886792 0.01886792\n",
      " 0.01886792 0.01886792 0.01886792 0.01886792 0.01886792 0.01886792]\n"
     ]
    }
   ],
   "source": [
    "# Create a demo student\n",
    "demo_student = np.zeros(num_classes)\n",
    "demo_student[np.where(classes == \"CSCI200\")] = 1\n",
    "\n",
    "print(\"Initial Student Array:\")\n",
    "print(demo_student)\n",
    "\n",
    "# Use matrix multiplication to guess what their next semester would look like\n",
    "demo_prediction = np.matmul(stochastic, demo_student)\n",
    "\n",
    "print(\"Predicted Schedule: \")\n",
    "print(demo_prediction)"
   ]
  },
  {
   "cell_type": "markdown",
   "metadata": {},
   "source": [
    "Above, since the student just took CSCI 200, we know that next semester they will not take CSCI 101 since that is a prereq, and they also won't take CSCI 200 again since they just passed the class"
   ]
  }
 ],
 "metadata": {
  "kernelspec": {
   "display_name": "Python 3",
   "language": "python",
   "name": "python3"
  },
  "language_info": {
   "codemirror_mode": {
    "name": "ipython",
    "version": 3
   },
   "file_extension": ".py",
   "mimetype": "text/x-python",
   "name": "python",
   "nbconvert_exporter": "python",
   "pygments_lexer": "ipython3",
   "version": "3.11.8"
  }
 },
 "nbformat": 4,
 "nbformat_minor": 2
}
